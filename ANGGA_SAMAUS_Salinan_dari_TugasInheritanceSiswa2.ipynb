{
  "nbformat": 4,
  "nbformat_minor": 0,
  "metadata": {
    "colab": {
      "provenance": [],
      "include_colab_link": true
    },
    "kernelspec": {
      "name": "python3",
      "display_name": "Python 3"
    },
    "language_info": {
      "name": "python"
    }
  },
  "cells": [
    {
      "cell_type": "markdown",
      "metadata": {
        "id": "view-in-github",
        "colab_type": "text"
      },
      "source": [
        "<a href=\"https://colab.research.google.com/github/ANGGASAMAUS/PBO-ANGGA/blob/main/ANGGA_SAMAUS_Salinan_dari_TugasInheritanceSiswa2.ipynb\" target=\"_parent\"><img src=\"https://colab.research.google.com/assets/colab-badge.svg\" alt=\"Open In Colab\"/></a>"
      ]
    },
    {
      "cell_type": "markdown",
      "source": [
        "Buatlah tiga kelas: User, Siswa, dan Guru. Class Siswa dan Guru mewarisi atribute dan fungsi dari class User. Keduanya menambahkan atribut dan fungsi tambahan sesuai dengan peran masing-masing.\n",
        "\n",
        "Output dari program ini akan menampilkan informasi seorang siswa dan seorang guru dengan menggunakan fungsi tampil_info() yang diwarisi dari class User. Untuk info user yang ditampilkan silakan ditentukan sendiri minimal ada nama dan umur.\n",
        "\n",
        "Untuk informasi khusus dari siswa dan guru silakan tentukan sendiri, minimal satu atribute tambahan yang membedakan antara siswa dan guru."
      ],
      "metadata": {
        "id": "oWYx5WDsIouf"
      }
    },
    {
      "cell_type": "code",
      "execution_count": 10,
      "metadata": {
        "id": "VQWWW4rpH9ve"
      },
      "outputs": [],
      "source": [
        "#Class User\n",
        "\n",
        "class User:\n",
        "  def __init__ (self, nama, umur ):\n",
        "    self.nama = nama\n",
        "    self.umur = umur\n",
        "\n",
        "  def tampil_info(self):\n",
        "    print(f\"Nama: {self.nama}\")\n",
        "    print(f\"Umur: {self.umur}\")"
      ]
    },
    {
      "cell_type": "code",
      "source": [
        "#Class Siswa\n",
        "\n",
        "class Siswa(User):\n",
        "  def __init__ (self, nama, umur, kelas,):\n",
        "    super().__init__(nama, umur)\n",
        "    self.kelas = kelas\n",
        "\n",
        "  def tampil_info_siswa(self):\n",
        "    self.tampil_info()\n",
        "    print(f\"Kelas: {self.kelas}\")"
      ],
      "metadata": {
        "id": "i_iBjMciJJc5"
      },
      "execution_count": 9,
      "outputs": []
    },
    {
      "cell_type": "code",
      "source": [
        "#Class Guru\n",
        "\n",
        "class Guru(User):\n",
        "  def __init__ (self, nama, umur, mapel,):\n",
        "    super().__init__(nama, umur)\n",
        "    self.mapel = mapel\n",
        "\n",
        "  def tampil_info_guru(self):\n",
        "    self.tampil_info()\n",
        "    print(f\"Mata Pelajaran: {self.mapel}\")"
      ],
      "metadata": {
        "id": "lrnlKm6sJMjp"
      },
      "execution_count": 11,
      "outputs": []
    },
    {
      "cell_type": "code",
      "source": [
        "#Program utama untuk menampilkan info\n",
        "\n",
        "siswa = Siswa(\"Syafaq\", 17, \"XI-RPL 2\")\n",
        "guru = Guru(\"Pak Arif\", 35, \"PBO\")\n",
        "\n",
        "print(\"Info Siswa:\")\n",
        "siswa.tampil_info_siswa()\n",
        "\n",
        "print(\"Info Guru:\")\n",
        "guru.tampil_info_guru()"
      ],
      "metadata": {
        "id": "VDGIma_2JOVx",
        "colab": {
          "base_uri": "https://localhost:8080/"
        },
        "outputId": "6a4b5f25-b112-4e4a-c94e-2bd46fda9a22"
      },
      "execution_count": 14,
      "outputs": [
        {
          "output_type": "stream",
          "name": "stdout",
          "text": [
            "Info Siswa:\n",
            "Nama: Syafaq\n",
            "Umur: 17\n",
            "Kelas: XI-RPL 2\n",
            "Info Guru:\n",
            "Nama: Pak Arif\n",
            "Umur: 35\n",
            "Mata Pelajaran: PBO\n"
          ]
        }
      ]
    }
  ]
}